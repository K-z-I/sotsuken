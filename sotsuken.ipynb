{
    "cells": [
        {
            "cell_type": "code",
            "execution_count": 232,
            "source": [
                "import numpy as np\n",
                "import pandas as pd\n",
                "import matplotlib.pyplot as plt\n",
                "from sklearn.linear_model import LinearRegression\n",
                "import math\n",
                "import itertools"
            ],
            "outputs": [],
            "metadata": {}
        },
        {
            "cell_type": "code",
            "execution_count": 489,
            "source": [
                "def Strategic_parameters(k_str):\n",
                "    k = []\n",
                "    k_ran_np = np.random.random(v-1)\n",
                "    k_ran = [[i+1,k_ran_np[i]] for i in range(v-1)]\n",
                "    for i in range(v):\n",
                "        k_str[i].insert(0 , 0)\n",
                "    for n in k_str:\n",
                "        k_ran.insert(0,n)\n",
                "        k_sub = []\n",
                "        for m in k_ran:\n",
                "            k_sub.append(m)\n",
                "        k.append(k_sub)\n",
                "        k_ran.pop(0)\n",
                "    return k"
            ],
            "outputs": [],
            "metadata": {}
        },
        {
            "cell_type": "code",
            "execution_count": 314,
            "source": [
                "def regression_analysis(M):\n",
                "    a_i = np.random.randn(M) #N(0,1)に従う回帰係数\n",
                "    a_2 = [n**2 for n in a_i]\n",
                "    a_u2 = sum(a_2) #Yの分散(a_i^2の合計)\n",
                "    b = [] #Y N(0,1)に従う時の回帰係数\n",
                "    for n in a_i:\n",
                "        c = np.sqrt(a_u2)\n",
                "        b.append(n/c)\n",
                "    B = np.abs(b)\n",
                "    \n",
                "    X = np.random.randn(M)\n",
                "    y = []\n",
                "    for n in range(len(b)):\n",
                "        y.append(X[n]*b[n])\n",
                "    Y = sum(y)\n",
                "    return b,B"
            ],
            "outputs": [],
            "metadata": {}
        },
        {
            "cell_type": "code",
            "execution_count": 310,
            "source": [
                "def probability():\n",
                "    p = np.random.rand(M) #確率\n",
                "    return p"
            ],
            "outputs": [],
            "metadata": {}
        },
        {
            "cell_type": "code",
            "execution_count": 646,
            "source": [
                "def select(v,B,p,k):\n",
                "    q = []\n",
                "    for n in range(v): #プレイヤー人数\n",
                "        e = np.random.rand(30)\n",
                "        g = []\n",
                "        for m in range(len(p)):\n",
                "            if p[m]>e[m]:\n",
                "                g.append(m)\n",
                "        q.append(g)\n",
                "    Q = []\n",
                "    for n in range(len(q)):\n",
                "        z = k[0][1]*B[0]-(1-k[0][1])*p[0]\n",
                "        w = None\n",
                "        for m in q[n]:\n",
                "            if k[n][1]*B[m]-(1-k[n][1])*p[m] > z:\n",
                "                z = k[n][1]*B[m]-(1-k[n][1])*p[m]\n",
                "                w = m\n",
                "        Q.append(w)\n",
                "    return Q"
            ],
            "outputs": [],
            "metadata": {}
        },
        {
            "cell_type": "code",
            "execution_count": 675,
            "source": [
                "def Shapley_value(Q,B):\n",
                "    gain_Sh = [[i,0] for i in V] #シャープレイ値による利得\n",
                "    Sh = []\n",
                "    for i in Q:\n",
                "        count = Q.count(i)\n",
                "        Sh.append(B[i]**2/count)\n",
                "    Sh_sum = sum(Sh)\n",
                "    Sh_per = [i/Sh_sum for i in Sh]\n",
                "    for n in range(len(gain_Sh)):\n",
                "        gain_Sh[n][1] += Sh_per[n]*100\n",
                "    return gain_Sh"
            ],
            "outputs": [],
            "metadata": {}
        },
        {
            "cell_type": "code",
            "execution_count": 677,
            "source": [
                "def ranking_value(Q,B):\n",
                "    gain_Rank = [[i,0] for i in V] #ランキングによる利得\n",
                "    Rank = []\n",
                "    for n in range(v):\n",
                "        Rank.append([n,Q[n],B[Q[n]]])\n",
                "    Rank = sorted(Rank, key=lambda x: x[2],reverse = True)\n",
                "    count1 = 0\n",
                "    count2 = 0\n",
                "    count3 = 0\n",
                "    count_sum = 0\n",
                "    for i in range(len(Rank)):\n",
                "        if Rank[0][1] == Rank[i][1]:\n",
                "            count1 += 1\n",
                "    count_sum += count1\n",
                "    if count_sum < 2:\n",
                "        for i in range(len(Rank)):\n",
                "            if Rank[count_sum][1] == Rank[i][1]:\n",
                "                count2 += 1\n",
                "    count_sum += count2\n",
                "    if count_sum < 3:\n",
                "        for i in range(len(Rank)):\n",
                "            if Rank[count_sum][1] == Rank[i][1]:\n",
                "                count3 += 1\n",
                "    count_sum += count3\n",
                "\n",
                "    if count1 >= 3:\n",
                "        point = 100/count1\n",
                "        for i in range(count1):\n",
                "            gain_Rank[Rank[i][0]][1] += point\n",
                "    if count1 == 2:\n",
                "        for i in range(count_sum):\n",
                "            if i < 2:\n",
                "                gain_Rank[Rank[i][0]][1] += 100*3/7\n",
                "            else:\n",
                "                gain_Rank[Rank[i][0]][1] += 100/7/count3\n",
                "    if count1 == 1:\n",
                "        if count2 >= 2:\n",
                "            for i in range(count_sum):\n",
                "                if i == 0:\n",
                "                    gain_Rank[Rank[i][0]][1] += 100*4/7\n",
                "                else:\n",
                "                    gain_Rank[Rank[i][0]][1] += 100*3/7/count2\n",
                "        else:\n",
                "            for i in range(count_sum):\n",
                "                if i == 0:\n",
                "                    gain_Rank[Rank[i][0]][1] += 100*4/7\n",
                "                elif i == 1:\n",
                "                    gain_Rank[Rank[i][0]][1] += 100*2/7\n",
                "                else:\n",
                "                    gain_Rank[Rank[i][0]][1] += 100/7/count3\n",
                "    return gain_Rank\n"
            ],
            "outputs": [],
            "metadata": {}
        },
        {
            "cell_type": "code",
            "execution_count": null,
            "source": [
                "M = 30 #説明変数の数\n",
                "v = 10 #プレイヤー人数\n",
                "V = [i for i in range(v)] #プレイヤー集合"
            ],
            "outputs": [],
            "metadata": {}
        },
        {
            "cell_type": "code",
            "execution_count": null,
            "source": [
                "k_str = [[0],[0.1],[0.2],[0.3],[0.4],[0.5],[0.6],[0.7],[0.8],[0.9]] #戦略パラメータ"
            ],
            "outputs": [],
            "metadata": {}
        },
        {
            "cell_type": "code",
            "execution_count": 672,
            "source": [
                "gain_Sh_sum = [[i,0] for i in range(v)]\n",
                "gain_Rank_sum = [[i,0] for i in range(v)]"
            ],
            "outputs": [],
            "metadata": {}
        },
        {
            "cell_type": "code",
            "execution_count": 670,
            "source": [
                "k = Strategic_parameters(k_str)"
            ],
            "outputs": [],
            "metadata": {}
        },
        {
            "cell_type": "code",
            "execution_count": 671,
            "source": [
                "b,B = regression_analysis(M)\n",
                "p = probability()"
            ],
            "outputs": [],
            "metadata": {}
        },
        {
            "cell_type": "code",
            "execution_count": 697,
            "source": [
                "for n in range(10):\n",
                "    for i in range(len(k)):\n",
                "        Q = select(v,B,p,k[i])\n",
                "        gain_Sh = Shapley_value(Q,B)\n",
                "        gain_Sh_sum[i][1] += gain_Sh[0][1]\n",
                "        gain_Rank = ranking_value(Q,B)\n",
                "        gain_Rank_sum[i][1] += gain_Rank[0][1]\n",
                "    "
            ],
            "outputs": [],
            "metadata": {}
        },
        {
            "cell_type": "code",
            "execution_count": 698,
            "source": [
                "print(gain_Sh_sum)\n",
                "print(gain_Rank_sum)"
            ],
            "outputs": [
                {
                    "output_type": "stream",
                    "name": "stdout",
                    "text": [
                        "[[0, 198.44429195260565], [1, 243.51104387498626], [2, 214.76557429442042], [3, 284.01003585708713], [4, 274.54579739378505], [5, 229.42310338963975], [6, 235.05126648200573], [7, 234.28151828862303], [8, 217.85950770444754], [9, 242.41122178291815]]\n",
                        "[[0, 35.71428571428571], [1, 47.61904761904762], [2, 56.19047619047618], [3, 53.57142857142857], [4, 102.3809523809524], [5, 65.47619047619047], [6, 33.333333333333336], [7, 109.52380952380953], [8, 91.66666666666666], [9, 35.714285714285715]]\n"
                    ]
                }
            ],
            "metadata": {}
        },
        {
            "cell_type": "code",
            "execution_count": 699,
            "source": [
                "plt.scatter(B,p)"
            ],
            "outputs": [
                {
                    "output_type": "execute_result",
                    "data": {
                        "text/plain": [
                            "<matplotlib.collections.PathCollection at 0x7fdca8deaeb0>"
                        ]
                    },
                    "metadata": {},
                    "execution_count": 699
                },
                {
                    "output_type": "display_data",
                    "data": {
                        "text/plain": [
                            "<Figure size 432x288 with 1 Axes>"
                        ],
                        "image/png": "[encoded data removed]"
                    },
                    "metadata": {
                        "needs_background": "light"
                    }
                }
            ],
            "metadata": {}
        }
    ],
    "metadata": {
        "orig_nbformat": 4,
        "language_info": {
            "name": "python",
            "version": "3.9.4",
            "mimetype": "text/x-python",
            "codemirror_mode": {
                "name": "ipython",
                "version": 3
            },
            "pygments_lexer": "ipython3",
            "nbconvert_exporter": "python",
            "file_extension": ".py"
        },
        "kernelspec": {
            "name": "python3",
            "display_name": "Python 3.9.4 64-bit"
        },
        "interpreter": {
            "hash": "7812ea015bdcee6f23a998adcdd2ef97c151c0c241b7b7070987d9313e41299d"
        }
    },
    "nbformat": 4,
    "nbformat_minor": 2
}